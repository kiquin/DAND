{
 "cells": [
  {
   "cell_type": "markdown",
   "metadata": {},
   "source": [
    "# Project: Identify Fraud from Enron Email\n",
    "\n",
    "## Introduction\n",
    "----\n",
    "Enron was one of the largest companies in the United States, until it was revealed that it's wealth was a result of widespread accounting fraud. Thanks to the resulting federal investigation, a huge amount of confidential data found it's way to the public's hands. This data includes tens of thousands of internal emails and financial data for top executives. The objetive of this project is to employ machine learning alongside a list of persons interest in the fraud case. With this, I will build a classifier that can identify employees who might have commited fraud.\n",
    "\n",
    "The data available falls into three types: financial data, email features and POI labels:\n",
    "\n",
    "* financial features: ['salary', 'deferral_payments', 'total_payments', 'loan_advances', 'bonus', 'restricted_stock_deferred', 'deferred_income', 'total_stock_value', 'expenses', 'exercised_stock_options', 'other', 'long_term_incentive', 'restricted_stock', 'director_fees']\n",
    "* email features: ['to_messages', 'email_address', 'from_poi_to_this_person', 'from_messages', 'from_this_person_to_poi', 'shared_receipt_with_poi'] \n",
    "* POI label: [‘poi’] \n",
    "\n",
    "## Data exploration\n",
    "----\n",
    "Before throwing all the data into a model, it's important to verify that it's complete and cleaned up. I import pandas and load the data dictionary into a dataframe to handle it better. The NaN entries are converted from string to numbers using numpy. This will allow the use of plots to see how some variables are distributed."
   ]
  },
  {
   "cell_type": "code",
   "execution_count": 1,
   "metadata": {},
   "outputs": [],
   "source": [
    "import sys\n",
    "import pickle\n",
    "sys.path.append(\"../tools/\")\n",
    "\n",
    "from feature_format import featureFormat, targetFeatureSplit\n",
    "\n",
    "### Load the dictionary containing the dataset\n",
    "with open(\"final_project_dataset.pkl\", \"r\") as data_file:\n",
    "    data_dict = pickle.load(data_file)\n",
    "\n",
    "my_dataset = data_dict"
   ]
  },
  {
   "cell_type": "code",
   "execution_count": 2,
   "metadata": {},
   "outputs": [],
   "source": [
    "import pandas as pd\n",
    "import numpy as np"
   ]
  },
  {
   "cell_type": "code",
   "execution_count": 3,
   "metadata": {},
   "outputs": [
    {
     "data": {
      "text/html": [
       "<div>\n",
       "<style scoped>\n",
       "    .dataframe tbody tr th:only-of-type {\n",
       "        vertical-align: middle;\n",
       "    }\n",
       "\n",
       "    .dataframe tbody tr th {\n",
       "        vertical-align: top;\n",
       "    }\n",
       "\n",
       "    .dataframe thead th {\n",
       "        text-align: right;\n",
       "    }\n",
       "</style>\n",
       "<table border=\"1\" class=\"dataframe\">\n",
       "  <thead>\n",
       "    <tr style=\"text-align: right;\">\n",
       "      <th></th>\n",
       "      <th>salary</th>\n",
       "      <th>to_messages</th>\n",
       "      <th>deferral_payments</th>\n",
       "      <th>total_payments</th>\n",
       "      <th>exercised_stock_options</th>\n",
       "      <th>bonus</th>\n",
       "      <th>restricted_stock</th>\n",
       "      <th>shared_receipt_with_poi</th>\n",
       "      <th>restricted_stock_deferred</th>\n",
       "      <th>total_stock_value</th>\n",
       "      <th>...</th>\n",
       "      <th>loan_advances</th>\n",
       "      <th>from_messages</th>\n",
       "      <th>other</th>\n",
       "      <th>from_this_person_to_poi</th>\n",
       "      <th>poi</th>\n",
       "      <th>director_fees</th>\n",
       "      <th>deferred_income</th>\n",
       "      <th>long_term_incentive</th>\n",
       "      <th>email_address</th>\n",
       "      <th>from_poi_to_this_person</th>\n",
       "    </tr>\n",
       "  </thead>\n",
       "  <tbody>\n",
       "    <tr>\n",
       "      <th>ALLEN PHILLIP K</th>\n",
       "      <td>201955.0</td>\n",
       "      <td>2902.0</td>\n",
       "      <td>2869717.0</td>\n",
       "      <td>4484442.0</td>\n",
       "      <td>1729541.0</td>\n",
       "      <td>4175000.0</td>\n",
       "      <td>126027.0</td>\n",
       "      <td>1407.0</td>\n",
       "      <td>-126027.0</td>\n",
       "      <td>1729541.0</td>\n",
       "      <td>...</td>\n",
       "      <td>NaN</td>\n",
       "      <td>2195.0</td>\n",
       "      <td>152.0</td>\n",
       "      <td>65.0</td>\n",
       "      <td>False</td>\n",
       "      <td>NaN</td>\n",
       "      <td>-3081055.0</td>\n",
       "      <td>304805.0</td>\n",
       "      <td>phillip.allen@enron.com</td>\n",
       "      <td>47.0</td>\n",
       "    </tr>\n",
       "    <tr>\n",
       "      <th>BADUM JAMES P</th>\n",
       "      <td>NaN</td>\n",
       "      <td>NaN</td>\n",
       "      <td>178980.0</td>\n",
       "      <td>182466.0</td>\n",
       "      <td>257817.0</td>\n",
       "      <td>NaN</td>\n",
       "      <td>NaN</td>\n",
       "      <td>NaN</td>\n",
       "      <td>NaN</td>\n",
       "      <td>257817.0</td>\n",
       "      <td>...</td>\n",
       "      <td>NaN</td>\n",
       "      <td>NaN</td>\n",
       "      <td>NaN</td>\n",
       "      <td>NaN</td>\n",
       "      <td>False</td>\n",
       "      <td>NaN</td>\n",
       "      <td>NaN</td>\n",
       "      <td>NaN</td>\n",
       "      <td>NaN</td>\n",
       "      <td>NaN</td>\n",
       "    </tr>\n",
       "    <tr>\n",
       "      <th>BANNANTINE JAMES M</th>\n",
       "      <td>477.0</td>\n",
       "      <td>566.0</td>\n",
       "      <td>NaN</td>\n",
       "      <td>916197.0</td>\n",
       "      <td>4046157.0</td>\n",
       "      <td>NaN</td>\n",
       "      <td>1757552.0</td>\n",
       "      <td>465.0</td>\n",
       "      <td>-560222.0</td>\n",
       "      <td>5243487.0</td>\n",
       "      <td>...</td>\n",
       "      <td>NaN</td>\n",
       "      <td>29.0</td>\n",
       "      <td>864523.0</td>\n",
       "      <td>0.0</td>\n",
       "      <td>False</td>\n",
       "      <td>NaN</td>\n",
       "      <td>-5104.0</td>\n",
       "      <td>NaN</td>\n",
       "      <td>james.bannantine@enron.com</td>\n",
       "      <td>39.0</td>\n",
       "    </tr>\n",
       "    <tr>\n",
       "      <th>BAXTER JOHN C</th>\n",
       "      <td>267102.0</td>\n",
       "      <td>NaN</td>\n",
       "      <td>1295738.0</td>\n",
       "      <td>5634343.0</td>\n",
       "      <td>6680544.0</td>\n",
       "      <td>1200000.0</td>\n",
       "      <td>3942714.0</td>\n",
       "      <td>NaN</td>\n",
       "      <td>NaN</td>\n",
       "      <td>10623258.0</td>\n",
       "      <td>...</td>\n",
       "      <td>NaN</td>\n",
       "      <td>NaN</td>\n",
       "      <td>2660303.0</td>\n",
       "      <td>NaN</td>\n",
       "      <td>False</td>\n",
       "      <td>NaN</td>\n",
       "      <td>-1386055.0</td>\n",
       "      <td>1586055.0</td>\n",
       "      <td>NaN</td>\n",
       "      <td>NaN</td>\n",
       "    </tr>\n",
       "    <tr>\n",
       "      <th>BAY FRANKLIN R</th>\n",
       "      <td>239671.0</td>\n",
       "      <td>NaN</td>\n",
       "      <td>260455.0</td>\n",
       "      <td>827696.0</td>\n",
       "      <td>NaN</td>\n",
       "      <td>400000.0</td>\n",
       "      <td>145796.0</td>\n",
       "      <td>NaN</td>\n",
       "      <td>-82782.0</td>\n",
       "      <td>63014.0</td>\n",
       "      <td>...</td>\n",
       "      <td>NaN</td>\n",
       "      <td>NaN</td>\n",
       "      <td>69.0</td>\n",
       "      <td>NaN</td>\n",
       "      <td>False</td>\n",
       "      <td>NaN</td>\n",
       "      <td>-201641.0</td>\n",
       "      <td>NaN</td>\n",
       "      <td>frank.bay@enron.com</td>\n",
       "      <td>NaN</td>\n",
       "    </tr>\n",
       "  </tbody>\n",
       "</table>\n",
       "<p>5 rows × 21 columns</p>\n",
       "</div>"
      ],
      "text/plain": [
       "                      salary  to_messages  deferral_payments  total_payments  \\\n",
       "ALLEN PHILLIP K     201955.0       2902.0          2869717.0       4484442.0   \n",
       "BADUM JAMES P            NaN          NaN           178980.0        182466.0   \n",
       "BANNANTINE JAMES M     477.0        566.0                NaN        916197.0   \n",
       "BAXTER JOHN C       267102.0          NaN          1295738.0       5634343.0   \n",
       "BAY FRANKLIN R      239671.0          NaN           260455.0        827696.0   \n",
       "\n",
       "                    exercised_stock_options      bonus  restricted_stock  \\\n",
       "ALLEN PHILLIP K                   1729541.0  4175000.0          126027.0   \n",
       "BADUM JAMES P                      257817.0        NaN               NaN   \n",
       "BANNANTINE JAMES M                4046157.0        NaN         1757552.0   \n",
       "BAXTER JOHN C                     6680544.0  1200000.0         3942714.0   \n",
       "BAY FRANKLIN R                          NaN   400000.0          145796.0   \n",
       "\n",
       "                    shared_receipt_with_poi  restricted_stock_deferred  \\\n",
       "ALLEN PHILLIP K                      1407.0                  -126027.0   \n",
       "BADUM JAMES P                           NaN                        NaN   \n",
       "BANNANTINE JAMES M                    465.0                  -560222.0   \n",
       "BAXTER JOHN C                           NaN                        NaN   \n",
       "BAY FRANKLIN R                          NaN                   -82782.0   \n",
       "\n",
       "                    total_stock_value           ...            loan_advances  \\\n",
       "ALLEN PHILLIP K             1729541.0           ...                      NaN   \n",
       "BADUM JAMES P                257817.0           ...                      NaN   \n",
       "BANNANTINE JAMES M          5243487.0           ...                      NaN   \n",
       "BAXTER JOHN C              10623258.0           ...                      NaN   \n",
       "BAY FRANKLIN R                63014.0           ...                      NaN   \n",
       "\n",
       "                    from_messages      other  from_this_person_to_poi    poi  \\\n",
       "ALLEN PHILLIP K            2195.0      152.0                     65.0  False   \n",
       "BADUM JAMES P                 NaN        NaN                      NaN  False   \n",
       "BANNANTINE JAMES M           29.0   864523.0                      0.0  False   \n",
       "BAXTER JOHN C                 NaN  2660303.0                      NaN  False   \n",
       "BAY FRANKLIN R                NaN       69.0                      NaN  False   \n",
       "\n",
       "                    director_fees  deferred_income  long_term_incentive  \\\n",
       "ALLEN PHILLIP K               NaN       -3081055.0             304805.0   \n",
       "BADUM JAMES P                 NaN              NaN                  NaN   \n",
       "BANNANTINE JAMES M            NaN          -5104.0                  NaN   \n",
       "BAXTER JOHN C                 NaN       -1386055.0            1586055.0   \n",
       "BAY FRANKLIN R                NaN        -201641.0                  NaN   \n",
       "\n",
       "                                 email_address from_poi_to_this_person  \n",
       "ALLEN PHILLIP K        phillip.allen@enron.com                    47.0  \n",
       "BADUM JAMES P                              NaN                     NaN  \n",
       "BANNANTINE JAMES M  james.bannantine@enron.com                    39.0  \n",
       "BAXTER JOHN C                              NaN                     NaN  \n",
       "BAY FRANKLIN R             frank.bay@enron.com                     NaN  \n",
       "\n",
       "[5 rows x 21 columns]"
      ]
     },
     "execution_count": 3,
     "metadata": {},
     "output_type": "execute_result"
    }
   ],
   "source": [
    "df = pd.DataFrame.from_dict(my_dataset, orient = 'index')\n",
    "df = df.replace('NaN', np.nan)\n",
    "\n",
    "df.head()"
   ]
  },
  {
   "cell_type": "markdown",
   "metadata": {},
   "source": [
    "I get a dataframe with the subject names as indexes, with all features including email addresses. Some of the fields are NaN, which means we don't have data for each person on some of the features."
   ]
  },
  {
   "cell_type": "markdown",
   "metadata": {},
   "source": [
    "### Outliers\n",
    "\n",
    "Considering the nature of the features in the data, it is more likely that we'll find outliers in the financial data. So I'll begin by plotting boxplots of the main features and look for data points that stick out, beginning with the salary data."
   ]
  },
  {
   "cell_type": "code",
   "execution_count": 4,
   "metadata": {},
   "outputs": [
    {
     "data": {
      "image/png": "[encoded data removed]",
      "text/plain": [
       "<matplotlib.figure.Figure at 0xb03d940>"
      ]
     },
     "metadata": {},
     "output_type": "display_data"
    }
   ],
   "source": [
    "import seaborn as sns\n",
    "sns.set(palette='muted')\n",
    "%matplotlib inline\n",
    "\n",
    "ax = sns.boxplot('salary', data = df)"
   ]
  },
  {
   "cell_type": "markdown",
   "metadata": {},
   "source": [
    "We've found our first outlier. There's a salary orders of magnitude bigger than the rest. I suspect its 'Total', given I've encountered it before in the EDA lessons. I'll filter the dataset to find the records that have very high salaries."
   ]
  },
  {
   "cell_type": "code",
   "execution_count": 5,
   "metadata": {},
   "outputs": [
    {
     "data": {
      "text/html": [
       "<div>\n",
       "<style scoped>\n",
       "    .dataframe tbody tr th:only-of-type {\n",
       "        vertical-align: middle;\n",
       "    }\n",
       "\n",
       "    .dataframe tbody tr th {\n",
       "        vertical-align: top;\n",
       "    }\n",
       "\n",
       "    .dataframe thead th {\n",
       "        text-align: right;\n",
       "    }\n",
       "</style>\n",
       "<table border=\"1\" class=\"dataframe\">\n",
       "  <thead>\n",
       "    <tr style=\"text-align: right;\">\n",
       "      <th></th>\n",
       "      <th>salary</th>\n",
       "      <th>to_messages</th>\n",
       "      <th>deferral_payments</th>\n",
       "      <th>total_payments</th>\n",
       "      <th>exercised_stock_options</th>\n",
       "      <th>bonus</th>\n",
       "      <th>restricted_stock</th>\n",
       "      <th>shared_receipt_with_poi</th>\n",
       "      <th>restricted_stock_deferred</th>\n",
       "      <th>total_stock_value</th>\n",
       "      <th>...</th>\n",
       "      <th>loan_advances</th>\n",
       "      <th>from_messages</th>\n",
       "      <th>other</th>\n",
       "      <th>from_this_person_to_poi</th>\n",
       "      <th>poi</th>\n",
       "      <th>director_fees</th>\n",
       "      <th>deferred_income</th>\n",
       "      <th>long_term_incentive</th>\n",
       "      <th>email_address</th>\n",
       "      <th>from_poi_to_this_person</th>\n",
       "    </tr>\n",
       "  </thead>\n",
       "  <tbody>\n",
       "    <tr>\n",
       "      <th>FREVERT MARK A</th>\n",
       "      <td>1060932.0</td>\n",
       "      <td>3275.0</td>\n",
       "      <td>6426990.0</td>\n",
       "      <td>17252530.0</td>\n",
       "      <td>10433518.0</td>\n",
       "      <td>2000000.0</td>\n",
       "      <td>4188667.0</td>\n",
       "      <td>2979.0</td>\n",
       "      <td>NaN</td>\n",
       "      <td>14622185.0</td>\n",
       "      <td>...</td>\n",
       "      <td>2000000.0</td>\n",
       "      <td>21.0</td>\n",
       "      <td>7427621.0</td>\n",
       "      <td>6.0</td>\n",
       "      <td>False</td>\n",
       "      <td>NaN</td>\n",
       "      <td>-3367011.0</td>\n",
       "      <td>1617011.0</td>\n",
       "      <td>mark.frevert@enron.com</td>\n",
       "      <td>242.0</td>\n",
       "    </tr>\n",
       "    <tr>\n",
       "      <th>LAY KENNETH L</th>\n",
       "      <td>1072321.0</td>\n",
       "      <td>4273.0</td>\n",
       "      <td>202911.0</td>\n",
       "      <td>103559793.0</td>\n",
       "      <td>34348384.0</td>\n",
       "      <td>7000000.0</td>\n",
       "      <td>14761694.0</td>\n",
       "      <td>2411.0</td>\n",
       "      <td>NaN</td>\n",
       "      <td>49110078.0</td>\n",
       "      <td>...</td>\n",
       "      <td>81525000.0</td>\n",
       "      <td>36.0</td>\n",
       "      <td>10359729.0</td>\n",
       "      <td>16.0</td>\n",
       "      <td>True</td>\n",
       "      <td>NaN</td>\n",
       "      <td>-300000.0</td>\n",
       "      <td>3600000.0</td>\n",
       "      <td>kenneth.lay@enron.com</td>\n",
       "      <td>123.0</td>\n",
       "    </tr>\n",
       "    <tr>\n",
       "      <th>SKILLING JEFFREY K</th>\n",
       "      <td>1111258.0</td>\n",
       "      <td>3627.0</td>\n",
       "      <td>NaN</td>\n",
       "      <td>8682716.0</td>\n",
       "      <td>19250000.0</td>\n",
       "      <td>5600000.0</td>\n",
       "      <td>6843672.0</td>\n",
       "      <td>2042.0</td>\n",
       "      <td>NaN</td>\n",
       "      <td>26093672.0</td>\n",
       "      <td>...</td>\n",
       "      <td>NaN</td>\n",
       "      <td>108.0</td>\n",
       "      <td>22122.0</td>\n",
       "      <td>30.0</td>\n",
       "      <td>True</td>\n",
       "      <td>NaN</td>\n",
       "      <td>NaN</td>\n",
       "      <td>1920000.0</td>\n",
       "      <td>jeff.skilling@enron.com</td>\n",
       "      <td>88.0</td>\n",
       "    </tr>\n",
       "    <tr>\n",
       "      <th>TOTAL</th>\n",
       "      <td>26704229.0</td>\n",
       "      <td>NaN</td>\n",
       "      <td>32083396.0</td>\n",
       "      <td>309886585.0</td>\n",
       "      <td>311764000.0</td>\n",
       "      <td>97343619.0</td>\n",
       "      <td>130322299.0</td>\n",
       "      <td>NaN</td>\n",
       "      <td>-7576788.0</td>\n",
       "      <td>434509511.0</td>\n",
       "      <td>...</td>\n",
       "      <td>83925000.0</td>\n",
       "      <td>NaN</td>\n",
       "      <td>42667589.0</td>\n",
       "      <td>NaN</td>\n",
       "      <td>False</td>\n",
       "      <td>1398517.0</td>\n",
       "      <td>-27992891.0</td>\n",
       "      <td>48521928.0</td>\n",
       "      <td>NaN</td>\n",
       "      <td>NaN</td>\n",
       "    </tr>\n",
       "  </tbody>\n",
       "</table>\n",
       "<p>4 rows × 21 columns</p>\n",
       "</div>"
      ],
      "text/plain": [
       "                        salary  to_messages  deferral_payments  \\\n",
       "FREVERT MARK A       1060932.0       3275.0          6426990.0   \n",
       "LAY KENNETH L        1072321.0       4273.0           202911.0   \n",
       "SKILLING JEFFREY K   1111258.0       3627.0                NaN   \n",
       "TOTAL               26704229.0          NaN         32083396.0   \n",
       "\n",
       "                    total_payments  exercised_stock_options       bonus  \\\n",
       "FREVERT MARK A          17252530.0               10433518.0   2000000.0   \n",
       "LAY KENNETH L          103559793.0               34348384.0   7000000.0   \n",
       "SKILLING JEFFREY K       8682716.0               19250000.0   5600000.0   \n",
       "TOTAL                  309886585.0              311764000.0  97343619.0   \n",
       "\n",
       "                    restricted_stock  shared_receipt_with_poi  \\\n",
       "FREVERT MARK A             4188667.0                   2979.0   \n",
       "LAY KENNETH L             14761694.0                   2411.0   \n",
       "SKILLING JEFFREY K         6843672.0                   2042.0   \n",
       "TOTAL                    130322299.0                      NaN   \n",
       "\n",
       "                    restricted_stock_deferred  total_stock_value  \\\n",
       "FREVERT MARK A                            NaN         14622185.0   \n",
       "LAY KENNETH L                             NaN         49110078.0   \n",
       "SKILLING JEFFREY K                        NaN         26093672.0   \n",
       "TOTAL                              -7576788.0        434509511.0   \n",
       "\n",
       "                             ...            loan_advances  from_messages  \\\n",
       "FREVERT MARK A               ...                2000000.0           21.0   \n",
       "LAY KENNETH L                ...               81525000.0           36.0   \n",
       "SKILLING JEFFREY K           ...                      NaN          108.0   \n",
       "TOTAL                        ...               83925000.0            NaN   \n",
       "\n",
       "                         other  from_this_person_to_poi    poi  director_fees  \\\n",
       "FREVERT MARK A       7427621.0                      6.0  False            NaN   \n",
       "LAY KENNETH L       10359729.0                     16.0   True            NaN   \n",
       "SKILLING JEFFREY K     22122.0                     30.0   True            NaN   \n",
       "TOTAL               42667589.0                      NaN  False      1398517.0   \n",
       "\n",
       "                    deferred_income  long_term_incentive  \\\n",
       "FREVERT MARK A           -3367011.0            1617011.0   \n",
       "LAY KENNETH L             -300000.0            3600000.0   \n",
       "SKILLING JEFFREY K              NaN            1920000.0   \n",
       "TOTAL                   -27992891.0           48521928.0   \n",
       "\n",
       "                              email_address from_poi_to_this_person  \n",
       "FREVERT MARK A       mark.frevert@enron.com                   242.0  \n",
       "LAY KENNETH L         kenneth.lay@enron.com                   123.0  \n",
       "SKILLING JEFFREY K  jeff.skilling@enron.com                    88.0  \n",
       "TOTAL                                   NaN                     NaN  \n",
       "\n",
       "[4 rows x 21 columns]"
      ]
     },
     "execution_count": 5,
     "metadata": {},
     "output_type": "execute_result"
    }
   ],
   "source": [
    "df[df['salary'] > 1000000]"
   ]
  },
  {
   "cell_type": "markdown",
   "metadata": {},
   "source": [
    "I've confirmed it's the Total, so next step is to drop it from the data."
   ]
  },
  {
   "cell_type": "code",
   "execution_count": 6,
   "metadata": {},
   "outputs": [],
   "source": [
    "df = df.drop(['TOTAL'])"
   ]
  },
  {
   "cell_type": "markdown",
   "metadata": {},
   "source": [
    "Without the totals entry, the boxplot for the salary will certainly look different:"
   ]
  },
  {
   "cell_type": "code",
   "execution_count": 7,
   "metadata": {},
   "outputs": [
    {
     "data": {
      "image/png": "[encoded data removed]",
      "text/plain": [
       "<matplotlib.figure.Figure at 0xb08aa20>"
      ]
     },
     "metadata": {},
     "output_type": "display_data"
    }
   ],
   "source": [
    "ax = sns.boxplot('salary', data = df)"
   ]
  },
  {
   "cell_type": "markdown",
   "metadata": {},
   "source": [
    "Now I'll take a look at the *total_payments* and *bonus*:"
   ]
  },
  {
   "cell_type": "code",
   "execution_count": 8,
   "metadata": {},
   "outputs": [
    {
     "data": {
      "image/png": "[encoded data removed]",
      "text/plain": [
       "<matplotlib.figure.Figure at 0xb2d03c8>"
      ]
     },
     "metadata": {},
     "output_type": "display_data"
    }
   ],
   "source": [
    "ax = sns.boxplot('total_payments', data = df)"
   ]
  },
  {
   "cell_type": "code",
   "execution_count": 9,
   "metadata": {},
   "outputs": [
    {
     "data": {
      "image/png": "[encoded data removed]",
      "text/plain": [
       "<matplotlib.figure.Figure at 0xb900470>"
      ]
     },
     "metadata": {},
     "output_type": "display_data"
    }
   ],
   "source": [
    "ax = sns.boxplot(x ='bonus', data = df)"
   ]
  },
  {
   "cell_type": "markdown",
   "metadata": {},
   "source": [
    "In 'Total payments' there's a data point very far ahead of the rest so lets take a  deeper look, see if we can remove it."
   ]
  },
  {
   "cell_type": "code",
   "execution_count": 10,
   "metadata": {},
   "outputs": [
    {
     "data": {
      "text/html": [
       "<div>\n",
       "<style scoped>\n",
       "    .dataframe tbody tr th:only-of-type {\n",
       "        vertical-align: middle;\n",
       "    }\n",
       "\n",
       "    .dataframe tbody tr th {\n",
       "        vertical-align: top;\n",
       "    }\n",
       "\n",
       "    .dataframe thead th {\n",
       "        text-align: right;\n",
       "    }\n",
       "</style>\n",
       "<table border=\"1\" class=\"dataframe\">\n",
       "  <thead>\n",
       "    <tr style=\"text-align: right;\">\n",
       "      <th></th>\n",
       "      <th>total_payments</th>\n",
       "      <th>poi</th>\n",
       "    </tr>\n",
       "  </thead>\n",
       "  <tbody>\n",
       "    <tr>\n",
       "      <th>LAY KENNETH L</th>\n",
       "      <td>103559793.0</td>\n",
       "      <td>True</td>\n",
       "    </tr>\n",
       "  </tbody>\n",
       "</table>\n",
       "</div>"
      ],
      "text/plain": [
       "               total_payments   poi\n",
       "LAY KENNETH L     103559793.0  True"
      ]
     },
     "execution_count": 10,
     "metadata": {},
     "output_type": "execute_result"
    }
   ],
   "source": [
    "df[df['total_payments'] > 40000000][['total_payments', 'poi']]"
   ]
  },
  {
   "cell_type": "markdown",
   "metadata": {},
   "source": [
    "Sadly, it's a POI, and a huge one, Lay Kenneth, so it has to stay. It seems the important outlier to get rid of was the totals. The data is already scarse so removing more won't do many favors, especially since most of the outliers in the boxplots are POIs.\n",
    "\n",
    "### Features and observations\n",
    "\n",
    "Now that I removed the main outlier of the dataset, I'll count the number of observations and how many features are available."
   ]
  },
  {
   "cell_type": "code",
   "execution_count": 11,
   "metadata": {},
   "outputs": [
    {
     "data": {
      "text/plain": [
       "(145, 21)"
      ]
     },
     "execution_count": 11,
     "metadata": {},
     "output_type": "execute_result"
    }
   ],
   "source": [
    "df.shape"
   ]
  },
  {
   "cell_type": "markdown",
   "metadata": {},
   "source": [
    "The data contains a total of **145 observations**, with **21 features**. However, we already saw there are some empty values, and we don't want to use features that have a lot of them. So, I'll check which of the features have many mising values."
   ]
  },
  {
   "cell_type": "code",
   "execution_count": 12,
   "metadata": {},
   "outputs": [
    {
     "data": {
      "text/html": [
       "<div>\n",
       "<style scoped>\n",
       "    .dataframe tbody tr th:only-of-type {\n",
       "        vertical-align: middle;\n",
       "    }\n",
       "\n",
       "    .dataframe tbody tr th {\n",
       "        vertical-align: top;\n",
       "    }\n",
       "\n",
       "    .dataframe thead th {\n",
       "        text-align: right;\n",
       "    }\n",
       "</style>\n",
       "<table border=\"1\" class=\"dataframe\">\n",
       "  <thead>\n",
       "    <tr style=\"text-align: right;\">\n",
       "      <th></th>\n",
       "      <th>Records</th>\n",
       "      <th>POIs</th>\n",
       "    </tr>\n",
       "  </thead>\n",
       "  <tbody>\n",
       "    <tr>\n",
       "      <th>salary</th>\n",
       "      <td>94</td>\n",
       "      <td>17</td>\n",
       "    </tr>\n",
       "    <tr>\n",
       "      <th>to_messages</th>\n",
       "      <td>86</td>\n",
       "      <td>14</td>\n",
       "    </tr>\n",
       "    <tr>\n",
       "      <th>deferral_payments</th>\n",
       "      <td>38</td>\n",
       "      <td>5</td>\n",
       "    </tr>\n",
       "    <tr>\n",
       "      <th>total_payments</th>\n",
       "      <td>124</td>\n",
       "      <td>18</td>\n",
       "    </tr>\n",
       "    <tr>\n",
       "      <th>exercised_stock_options</th>\n",
       "      <td>101</td>\n",
       "      <td>12</td>\n",
       "    </tr>\n",
       "    <tr>\n",
       "      <th>bonus</th>\n",
       "      <td>81</td>\n",
       "      <td>16</td>\n",
       "    </tr>\n",
       "    <tr>\n",
       "      <th>restricted_stock</th>\n",
       "      <td>109</td>\n",
       "      <td>17</td>\n",
       "    </tr>\n",
       "    <tr>\n",
       "      <th>shared_receipt_with_poi</th>\n",
       "      <td>86</td>\n",
       "      <td>14</td>\n",
       "    </tr>\n",
       "    <tr>\n",
       "      <th>restricted_stock_deferred</th>\n",
       "      <td>17</td>\n",
       "      <td>0</td>\n",
       "    </tr>\n",
       "    <tr>\n",
       "      <th>total_stock_value</th>\n",
       "      <td>125</td>\n",
       "      <td>18</td>\n",
       "    </tr>\n",
       "    <tr>\n",
       "      <th>expenses</th>\n",
       "      <td>94</td>\n",
       "      <td>18</td>\n",
       "    </tr>\n",
       "    <tr>\n",
       "      <th>loan_advances</th>\n",
       "      <td>3</td>\n",
       "      <td>1</td>\n",
       "    </tr>\n",
       "    <tr>\n",
       "      <th>from_messages</th>\n",
       "      <td>86</td>\n",
       "      <td>14</td>\n",
       "    </tr>\n",
       "    <tr>\n",
       "      <th>other</th>\n",
       "      <td>92</td>\n",
       "      <td>18</td>\n",
       "    </tr>\n",
       "    <tr>\n",
       "      <th>from_this_person_to_poi</th>\n",
       "      <td>86</td>\n",
       "      <td>14</td>\n",
       "    </tr>\n",
       "    <tr>\n",
       "      <th>poi</th>\n",
       "      <td>145</td>\n",
       "      <td>18</td>\n",
       "    </tr>\n",
       "    <tr>\n",
       "      <th>director_fees</th>\n",
       "      <td>16</td>\n",
       "      <td>0</td>\n",
       "    </tr>\n",
       "    <tr>\n",
       "      <th>deferred_income</th>\n",
       "      <td>48</td>\n",
       "      <td>11</td>\n",
       "    </tr>\n",
       "    <tr>\n",
       "      <th>long_term_incentive</th>\n",
       "      <td>65</td>\n",
       "      <td>12</td>\n",
       "    </tr>\n",
       "    <tr>\n",
       "      <th>email_address</th>\n",
       "      <td>111</td>\n",
       "      <td>18</td>\n",
       "    </tr>\n",
       "    <tr>\n",
       "      <th>from_poi_to_this_person</th>\n",
       "      <td>86</td>\n",
       "      <td>14</td>\n",
       "    </tr>\n",
       "  </tbody>\n",
       "</table>\n",
       "</div>"
      ],
      "text/plain": [
       "                           Records  POIs\n",
       "salary                          94    17\n",
       "to_messages                     86    14\n",
       "deferral_payments               38     5\n",
       "total_payments                 124    18\n",
       "exercised_stock_options        101    12\n",
       "bonus                           81    16\n",
       "restricted_stock               109    17\n",
       "shared_receipt_with_poi         86    14\n",
       "restricted_stock_deferred       17     0\n",
       "total_stock_value              125    18\n",
       "expenses                        94    18\n",
       "loan_advances                    3     1\n",
       "from_messages                   86    14\n",
       "other                           92    18\n",
       "from_this_person_to_poi         86    14\n",
       "poi                            145    18\n",
       "director_fees                   16     0\n",
       "deferred_income                 48    11\n",
       "long_term_incentive             65    12\n",
       "email_address                  111    18\n",
       "from_poi_to_this_person         86    14"
      ]
     },
     "execution_count": 12,
     "metadata": {},
     "output_type": "execute_result"
    }
   ],
   "source": [
    "# First, count the entries for each feature\n",
    "f_count = df.count()\n",
    "\n",
    "# Then, count the POIs found in each one\n",
    "p_count = df[df['poi']].count()\n",
    "\n",
    "# Finally group them on a single table and print\n",
    "final = pd.concat([f_count, p_count], axis = 1)\n",
    "final.columns = ['Records', 'POIs']\n",
    "\n",
    "final\n"
   ]
  },
  {
   "cell_type": "markdown",
   "metadata": {},
   "source": [
    "The POI feature is the one that's available for every single row. It clearly shows we have a total of **145 observations**, of which only **18 are POIs**. Since this number is low, I'll narrow down the list to show features that have less than 50 entries."
   ]
  },
  {
   "cell_type": "code",
   "execution_count": 13,
   "metadata": {},
   "outputs": [
    {
     "data": {
      "text/html": [
       "<div>\n",
       "<style scoped>\n",
       "    .dataframe tbody tr th:only-of-type {\n",
       "        vertical-align: middle;\n",
       "    }\n",
       "\n",
       "    .dataframe tbody tr th {\n",
       "        vertical-align: top;\n",
       "    }\n",
       "\n",
       "    .dataframe thead th {\n",
       "        text-align: right;\n",
       "    }\n",
       "</style>\n",
       "<table border=\"1\" class=\"dataframe\">\n",
       "  <thead>\n",
       "    <tr style=\"text-align: right;\">\n",
       "      <th></th>\n",
       "      <th>Records</th>\n",
       "      <th>POIs</th>\n",
       "    </tr>\n",
       "  </thead>\n",
       "  <tbody>\n",
       "    <tr>\n",
       "      <th>deferral_payments</th>\n",
       "      <td>38</td>\n",
       "      <td>5</td>\n",
       "    </tr>\n",
       "    <tr>\n",
       "      <th>restricted_stock_deferred</th>\n",
       "      <td>17</td>\n",
       "      <td>0</td>\n",
       "    </tr>\n",
       "    <tr>\n",
       "      <th>loan_advances</th>\n",
       "      <td>3</td>\n",
       "      <td>1</td>\n",
       "    </tr>\n",
       "    <tr>\n",
       "      <th>director_fees</th>\n",
       "      <td>16</td>\n",
       "      <td>0</td>\n",
       "    </tr>\n",
       "    <tr>\n",
       "      <th>deferred_income</th>\n",
       "      <td>48</td>\n",
       "      <td>11</td>\n",
       "    </tr>\n",
       "  </tbody>\n",
       "</table>\n",
       "</div>"
      ],
      "text/plain": [
       "                           Records  POIs\n",
       "deferral_payments               38     5\n",
       "restricted_stock_deferred       17     0\n",
       "loan_advances                    3     1\n",
       "director_fees                   16     0\n",
       "deferred_income                 48    11"
      ]
     },
     "execution_count": 13,
     "metadata": {},
     "output_type": "execute_result"
    }
   ],
   "source": [
    "final[final['Records'] < 50]"
   ]
  },
  {
   "cell_type": "markdown",
   "metadata": {},
   "source": [
    "The first four features on this list don't seem very useful. restricted_stock_deferred and director_fees have no information on POI, while loan_advances and deferral_payments have few observations (3 and 38), so I'll drop them all from my final feature list. Deferred_income has data on 11 POI, so it makes the cut. That leaves us with **17 features**.\n",
    "\n",
    "Additionaly, the email_address one is categorical data unique to every person, so I won't be using that when building a model. Thus, the final feature list is as follows:"
   ]
  },
  {
   "cell_type": "code",
   "execution_count": 14,
   "metadata": {},
   "outputs": [],
   "source": [
    "features_list = ['poi', 'salary', 'total_payments', 'bonus', 'deferred_income',\n",
    "                 'total_stock_value', 'expenses', 'exercised_stock_options', 'other',\n",
    "                 'long_term_incentive', 'restricted_stock', 'to_messages', \n",
    "                 'from_poi_to_this_person', 'from_messages', 'from_this_person_to_poi',\n",
    "                 'shared_receipt_with_poi']"
   ]
  },
  {
   "cell_type": "markdown",
   "metadata": {},
   "source": [
    "## Feature engineering\n",
    "\n",
    "In the final list of features I'm going to use, there are some features that are clearly related. For example, salary and bonuses are part of the total payments. And many email features are related to POIs in different ways. In order to take advantage of this, I'll define two new features:\n",
    "\n",
    "1. *bonus_percent*: Defined as the fraction of bonuses to the total payments, describes how much of the money came from bonuses.\n",
    "\n",
    "2. *poi_messages*: The sum of the poi-related email features: from_poi_to_this_person, from_this_person_to_poi, shared_receipt_with_poi.\n",
    "\n",
    "I'll implement these features in the pandas dataframe for convenience, and then export it back to a dict. Also, boxplots for each of the new variables, to check if there are some crazy outliers like last time."
   ]
  },
  {
   "cell_type": "code",
   "execution_count": 15,
   "metadata": {},
   "outputs": [],
   "source": [
    "df['bonus_percent'] = df['salary']/df['total_payments']\n",
    "df['poi_messages'] = df['from_poi_to_this_person']+df['from_this_person_to_poi']+df['shared_receipt_with_poi']"
   ]
  },
  {
   "cell_type": "code",
   "execution_count": 16,
   "metadata": {},
   "outputs": [
    {
     "data": {
      "image/png": "[encoded data removed]",
      "text/plain": [
       "<matplotlib.figure.Figure at 0xba3edd8>"
      ]
     },
     "metadata": {},
     "output_type": "display_data"
    }
   ],
   "source": [
    "ax = sns.boxplot(x ='bonus_percent', data = df)"
   ]
  },
  {
   "cell_type": "code",
   "execution_count": 17,
   "metadata": {},
   "outputs": [
    {
     "data": {
      "image/png": "[encoded data removed]",
      "text/plain": [
       "<matplotlib.figure.Figure at 0xbcda1d0>"
      ]
     },
     "metadata": {},
     "output_type": "display_data"
    }
   ],
   "source": [
    "ax = sns.boxplot(x ='poi_messages', data = df)"
   ]
  },
  {
   "cell_type": "markdown",
   "metadata": {},
   "source": [
    "There aren't any notable outliers so we're good to go. This concludes the data exploration so it's time to export the dataframe back to a dictionary."
   ]
  },
  {
   "cell_type": "code",
   "execution_count": 18,
   "metadata": {},
   "outputs": [],
   "source": [
    "df = df.fillna('NaN')\n",
    "my_dataset = df.T.to_dict()"
   ]
  },
  {
   "cell_type": "markdown",
   "metadata": {},
   "source": [
    "## Building a model\n",
    "----\n",
    "The next step is to build the model, and to begin I'll define it's characteristics and the process of deciding what will go into it.\n",
    "\n",
    "### Optimizing features\n",
    "\n",
    "Now that we've treated the outliers and removed some features that didn't provide adequate information, it's time to check which of the remaining features are useful and which aren't. Also, I created two new features:"
   ]
  },
  {
   "cell_type": "code",
   "execution_count": 19,
   "metadata": {},
   "outputs": [],
   "source": [
    "new_features = ['bonus_percent', 'poi_messages']"
   ]
  },
  {
   "cell_type": "markdown",
   "metadata": {},
   "source": [
    "I'll add these two to the complete feature list that will go into training the classifier. This gives us a total of 17 features, without counting POI.\n",
    "\n",
    "As the feature number is still quite high, I will use sklearn's **SelectKBest** method in order to narrow the list down to 10 o 5, as well as measure the individual performance of each feature.\n",
    "\n",
    "### The classification algorithm\n",
    "\n",
    "This dataset is fairly small and the features aren't complex. Therefore, I will use classfiers I learned about in the lessons, namely these two:\n",
    "\n",
    "1. Support vector machine classifier: Because the data seems to be linearly separable, so the linear kernel might work. Otherwise, I can also test the RBF kernel, which won't take an eternity to train due to the small sampling size.\n",
    "\n",
    "2. Adaptive boosting: This algorithm was the best performer in the lessons. It's build with decision trees so it doesn't require any feature scaling to work properly. It's adaptive nature can work well with data like this, where the POIs are few.\n",
    "\n",
    "3. K-nearest neighbors: A classic classifier, which assigns the classes most common amongst a data point's neighboors.\n",
    "\n",
    "### Tuning\n",
    "\n",
    "I will use sklearn's **pipeline** in order to build the models and **GridSearchCV** to exhaustively consider all parameter combinations and then find the best one. The two algorithms considered have different parameters. The main ones being:\n",
    "\n",
    "* SVM\n",
    "\n",
    "| Parameter     | Affects                                                                                            |\n",
    "|:--------------|:---------------------------------------------------------------------------------------------------|\n",
    "| C             | The tradeoff between smooth decision boundary and classifying training points correctly.  |\n",
    "| gamma         | The radius of influence of a single training example.                                     |\n",
    "\n",
    "* AdaBoost\n",
    "\n",
    "| Parameter     | Affects                                                    |\n",
    "|:--------------|:-----------------------------------------------------------|\n",
    "| n_estimators  | The number of estimators.                                  |\n",
    "| learning_rate | Shrinks the contribution of each estimator by this number. |\n",
    "\n",
    "* K-neighbors\n",
    "\n",
    "| Parameter     | Affects                                                    |\n",
    "|:--------------|:-----------------------------------------------------------|\n",
    "| p  | Power parameter for the Minkowski metric.                                  |\n",
    "| n_neighbors   | Number of neighbors |\n",
    "\n",
    "Tuning parameters have effects on the performance of an algorithm. They must be selected in order to balance the accuracy without overfitting.\n",
    "\n",
    "### Evaluation\n",
    "\n",
    "In order to evaluate the performance of the model, we'll look at the accuracy, precision and recall:\n",
    "\n",
    "* *Accuracy* is the fraction of predictions that the classfier gets right. It is the number of correct predictions, divided by the total number of predictions made.\n",
    "\n",
    "* *Precision* and *recall* are measures of relevance:\n",
    "    * Precision: Out of all the items labelled as positive, how many truly belong to the positive class?\n",
    "    * Recall: Out of all the items that are truly positive, how many were correctly classified as positive?\n",
    " \n",
    "*Recall is worse when the classifier has many false negatives, while precision is worse when it labels too many false positives.*\n",
    "\n",
    "In our dataset, a precision of 1 would mean that the algorithm marked all the POIs correctly. Real life, however, isn't perfect, so precision will be lower, and that means that there are some employees that are not POIs, that will get mistakenly marked as such.\n",
    "\n",
    "Recall, on the other hand, measures the false negatives. A recall of 1 would mean that the algorithm correctly marked all POIs as such. A lower score, however, means that there are some POIs that got marked as non-POIs, in other words, POIs that the algorithm misses.\n",
    "\n",
    "### Validation\n",
    "\n",
    "In order to measure these scores, a validation strategy must be defined. A common strategy is to do cross validation, splitting the dataset in various parts, traning with some and testing with the rest. In this case, however, our data has very little POIs compared to \"normal\" people, so these dataset splits must be smart. This is where *Stratified ShuffleSplit cross-validation* is used, as it returns random folds, while preserving the percentage of samples for each class in the splits made.\n",
    "\n",
    "It's important that validation is done in this random way. Let's say, for example, we split the dataset 70/30, but all the POIs are in the final 30%. What will happen is that the algorithm will never see a POI and so will never classify one correctly when it sees one. This cross-validation method guarantees that every fold will have the same percentage of POIs in it. Also, in order to make up for the lack of data, many different folds are created for training and testing, and the results of each training is aggregated into one final model.\n",
    "\n",
    "The validation method is implemented in the *tester.py* file, so I simply import the *test_classifier* method to measure the precision and recall of the model. This particular method employs the *Stratified ShuffleSplit* with a total of 1.000 folds."
   ]
  },
  {
   "cell_type": "markdown",
   "metadata": {},
   "source": [
    "## Testing the models\n",
    "----\n",
    "\n",
    "Now's the time to implement the models and evaluate their performance in order to define which is better. I'll use sklearn's **pipeline** and **GridSearchCV** as mentioned before to build both models, and test with the provided function."
   ]
  },
  {
   "cell_type": "code",
   "execution_count": 20,
   "metadata": {},
   "outputs": [
    {
     "name": "stderr",
     "output_type": "stream",
     "text": [
      "C:\\Users\\Enrique\\Anaconda3\\envs\\py27\\lib\\site-packages\\sklearn\\cross_validation.py:41: DeprecationWarning: This module was deprecated in version 0.18 in favor of the model_selection module into which all the refactored classes and functions are moved. Also note that the interface of the new CV iterators are different from that of this module. This module will be removed in 0.20.\n",
      "  \"This module will be removed in 0.20.\", DeprecationWarning)\n"
     ]
    }
   ],
   "source": [
    "## Mute the warnings that pop up when testing precision\n",
    "import warnings\n",
    "warnings.simplefilter(\"ignore\")\n",
    "\n",
    "from sklearn.pipeline import Pipeline\n",
    "from sklearn.model_selection import GridSearchCV\n",
    "from sklearn.feature_selection import SelectKBest\n",
    "\n",
    "import tester"
   ]
  },
  {
   "cell_type": "markdown",
   "metadata": {},
   "source": [
    "Next, update the feature list with the created features and split the data into labels and features. With this, it's time to set up the classification algorithms."
   ]
  },
  {
   "cell_type": "code",
   "execution_count": 21,
   "metadata": {},
   "outputs": [],
   "source": [
    "features_list += new_features\n",
    "\n",
    "### Extract features and labels from dataset for local testing\n",
    "data = featureFormat(my_dataset, features_list, sort_keys = True)\n",
    "labels, features = targetFeatureSplit(data)"
   ]
  },
  {
   "cell_type": "markdown",
   "metadata": {},
   "source": [
    "### Support Vector Machine\n",
    "\n",
    "First up is the SVC. I'll be testing both the linear and rbf kernels, while varying C and gamma. This particular method relies on distances, so in order to rescale the data I import the **Standard Scaler**, so features are converted to mean zero and variance 1."
   ]
  },
  {
   "cell_type": "code",
   "execution_count": 22,
   "metadata": {},
   "outputs": [
    {
     "name": "stdout",
     "output_type": "stream",
     "text": [
      "Pipeline(memory=None,\n",
      "     steps=[('scaling', StandardScaler(copy=True, with_mean=True, with_std=True)), ('feature_select', SelectKBest(k='all', score_func=<function f_classif at 0x000000000B2C9898>)), ('svm', SVC(C=1000, cache_size=200, class_weight=None, coef0=0.0,\n",
      "  decision_function_shape='ovr', degree=3, gamma=0.5, kernel='linear',\n",
      "  max_iter=-1, probability=False, random_state=None, shrinking=True,\n",
      "  tol=0.001, verbose=False))])\n",
      "\tAccuracy: 0.86533\tPrecision: 0.49089\tRecall: 0.26950\tF1: 0.34797\tF2: 0.29622\n",
      "\tTotal predictions: 15000\tTrue positives:  539\tFalse positives:  559\tFalse negatives: 1461\tTrue negatives: 12441\n",
      "\n"
     ]
    }
   ],
   "source": [
    "from sklearn.svm import SVC\n",
    "from sklearn.preprocessing import StandardScaler\n",
    "\n",
    "pipe_A = Pipeline([\n",
    "    ('scaling', StandardScaler()),\n",
    "    ('feature_select', SelectKBest()),\n",
    "    ('svm', SVC())\n",
    "])\n",
    "\n",
    "param_grid = [{'feature_select__k': [5, 10, 'all'],\n",
    "               'svm__C': [1, 50, 100, 1000],\n",
    "               'svm__gamma': [0.5, 0.1, 0.01],\n",
    "               'svm__kernel': ['linear', 'rbf']\n",
    "              }]\n",
    "\n",
    "svm_class = GridSearchCV(pipe_A, cv=3, n_jobs=1, param_grid=param_grid,\n",
    "                         scoring=['precision','recall'], refit='recall').fit(features, labels)\n",
    "\n",
    "tester.test_classifier(svm_class.best_estimator_, my_dataset, features_list)"
   ]
  },
  {
   "cell_type": "markdown",
   "metadata": {},
   "source": [
    "The grid search for the SVC found that the best results are obtained when using the rbf kernel, with a C of 100 and gamma 0.01. This particular combination resulted in a precision of 0.49 and recall of 0.27.\n",
    "\n",
    "Now, let's see how the features scored. For this, I get the scores from the SelectKBest object, then build a plot with seaborn that shows the scores in order:"
   ]
  },
  {
   "cell_type": "code",
   "execution_count": 23,
   "metadata": {},
   "outputs": [
    {
     "data": {
      "image/png": "[encoded data removed]",
      "text/plain": [
       "<matplotlib.figure.Figure at 0xbe39588>"
      ]
     },
     "metadata": {},
     "output_type": "display_data"
    }
   ],
   "source": [
    "scores = svm_class.best_estimator_.get_params()['feature_select'].scores_\n",
    "\n",
    "feature_scores_A = pd.DataFrame({'Feature':features_list[1:],'Score':scores}).sort_values('Score', ascending=False)\n",
    "\n",
    "ax = sns.barplot(x = \"Score\", y = \"Feature\", data = feature_scores_A, orient = 'h')"
   ]
  },
  {
   "cell_type": "markdown",
   "metadata": {},
   "source": [
    "The model used the all of the features. Of the ones I created, only one made the top 10, and that is *poi_messages*. The other one, *bonus_percent*, is one of the lowest scoring features."
   ]
  },
  {
   "cell_type": "markdown",
   "metadata": {},
   "source": [
    "### AdaBoost\n",
    "\n",
    "Adaptive boosting uses the decision tree as it's base algorithm by default, and that's what I'm using. Contrary to the SVC, this one doesn't use distance for calculation, so it's not necessary to rescale the features. That said, let's test this one:"
   ]
  },
  {
   "cell_type": "code",
   "execution_count": 24,
   "metadata": {},
   "outputs": [
    {
     "name": "stderr",
     "output_type": "stream",
     "text": [
      "C:\\Users\\Enrique\\Anaconda3\\envs\\py27\\lib\\site-packages\\sklearn\\ensemble\\weight_boosting.py:29: DeprecationWarning: numpy.core.umath_tests is an internal NumPy module and should not be imported. It will be removed in a future NumPy release.\n",
      "  from numpy.core.umath_tests import inner1d\n"
     ]
    },
    {
     "name": "stdout",
     "output_type": "stream",
     "text": [
      "Pipeline(memory=None,\n",
      "     steps=[('feature_select', SelectKBest(k=10, score_func=<function f_classif at 0x000000000B2C9898>)), ('ada', AdaBoostClassifier(algorithm='SAMME.R', base_estimator=None,\n",
      "          learning_rate=0.5, n_estimators=30, random_state=None))])\n",
      "\tAccuracy: 0.84587\tPrecision: 0.37086\tRecall: 0.22400\tF1: 0.27930\tF2: 0.24327\n",
      "\tTotal predictions: 15000\tTrue positives:  448\tFalse positives:  760\tFalse negatives: 1552\tTrue negatives: 12240\n",
      "\n"
     ]
    }
   ],
   "source": [
    "from sklearn.ensemble import AdaBoostClassifier\n",
    "\n",
    "pipe_B = Pipeline([\n",
    "    ('feature_select', SelectKBest()),\n",
    "    ('ada', AdaBoostClassifier())\n",
    "])\n",
    "\n",
    "param_grid = [{'feature_select__k': [5, 10, 'all'],\n",
    "               'ada__n_estimators': [30, 50, 100],\n",
    "               'ada__learning_rate': [0.5, 0.8, 1]\n",
    "              }]\n",
    "\n",
    "ada_class = GridSearchCV(pipe_B, cv=3, n_jobs=1, param_grid=param_grid,\n",
    "                    scoring=['precision','recall'], refit='recall').fit(features, labels)\n",
    "\n",
    "tester.test_classifier(ada_class.best_estimator_, my_dataset, features_list)"
   ]
  },
  {
   "cell_type": "markdown",
   "metadata": {},
   "source": [
    "For the adaboost algorithm, it found that the best parameters are a learning rate of 0.5 and 30 estimators. This model obtained a precision score of 0.37 and a recall of 0.22. The performance is a bit worse than the SVM.\n",
    "\n",
    "Now, I check the feature scores again, since this time we didn't scale them:"
   ]
  },
  {
   "cell_type": "code",
   "execution_count": 25,
   "metadata": {},
   "outputs": [
    {
     "data": {
      "image/png": "[encoded data removed]",
      "text/plain": [
       "<matplotlib.figure.Figure at 0xc07a1d0>"
      ]
     },
     "metadata": {},
     "output_type": "display_data"
    }
   ],
   "source": [
    "scores = ada_class.best_estimator_.get_params()['feature_select'].scores_\n",
    "\n",
    "feature_scores_A = pd.DataFrame({'Feature':features_list[1:],'Score':scores}).sort_values('Score', ascending=False)\n",
    "\n",
    "ax = sns.barplot(x = \"Score\", y = \"Feature\", data = feature_scores_A, orient = 'h')"
   ]
  },
  {
   "cell_type": "markdown",
   "metadata": {},
   "source": [
    "The scores didn't change. The only difference is that in this model, SelectKBest took the 10 best features for training the classifier. These features are the top scoring ones from the bar plot, from exercised_stock_options to long_term_incentive. This means that one of the created features, *poi_messages*, made it into the 10 features used for the adaboost classifier. The other one, *bonus percent*, is quite weak and has been discarded."
   ]
  },
  {
   "cell_type": "markdown",
   "metadata": {},
   "source": [
    "### k-nearest neighbors\n",
    "\n",
    "This classifier is the simplest among the three used. Mainly, I'll be varying the number of neighbors. I'm not scaling the features this time."
   ]
  },
  {
   "cell_type": "code",
   "execution_count": 26,
   "metadata": {},
   "outputs": [
    {
     "name": "stdout",
     "output_type": "stream",
     "text": [
      "Pipeline(memory=None,\n",
      "     steps=[('feature_select', SelectKBest(k=5, score_func=<function f_classif at 0x000000000B2C9898>)), ('kn', KNeighborsClassifier(algorithm='auto', leaf_size=30, metric='minkowski',\n",
      "           metric_params=None, n_jobs=1, n_neighbors=3, p=1,\n",
      "           weights='uniform'))])\n",
      "\tAccuracy: 0.88580\tPrecision: 0.63680\tRecall: 0.33400\tF1: 0.43818\tF2: 0.36910\n",
      "\tTotal predictions: 15000\tTrue positives:  668\tFalse positives:  381\tFalse negatives: 1332\tTrue negatives: 12619\n",
      "\n"
     ]
    }
   ],
   "source": [
    "from sklearn.neighbors import KNeighborsClassifier\n",
    "\n",
    "pipe_C = Pipeline([\n",
    "    ('feature_select', SelectKBest()),\n",
    "    ('kn', KNeighborsClassifier())\n",
    "])\n",
    "\n",
    "param_grid = [{'feature_select__k': [5, 10, 'all'],\n",
    "               'kn__n_neighbors': [3, 5, 7, 10],\n",
    "               'kn__p': [1, 2]\n",
    "              }]\n",
    "\n",
    "lr_class = GridSearchCV(pipe_C, cv=3, n_jobs=1, param_grid=param_grid,\n",
    "                    scoring=['precision','recall'], refit='recall').fit(features, labels)\n",
    "\n",
    "tester.test_classifier(lr_class.best_estimator_, my_dataset, features_list)"
   ]
  },
  {
   "cell_type": "markdown",
   "metadata": {},
   "source": [
    "This is clearly the best performing method. With 3 neighbors and p=1, the k-nearest algorithm has the best precision and recall, with 0.64 and 0.33, respectively. This time, the top 5 features were used, so none of the engineered features made the cut."
   ]
  },
  {
   "cell_type": "markdown",
   "metadata": {},
   "source": [
    "### The final model\n",
    "\n",
    "Using precision and recall as the performance metric, the K-neighbors classifier had the best performance out of the three, beating SVM and AdaBoost. Based on the grid search results, the best parameters for this algorithm are:\n",
    "\n",
    "* n_neighbors: 3\n",
    "* p: 1\n",
    "\n",
    "Everything else uses the default. Also, the SelectKBest algorithm chose the best 5 features, which are:\n",
    "\n",
    "1. exercised_stock_options\n",
    "2. total_stock_value\n",
    "3. salary\n",
    "4. bonus\n",
    "5. restricted_stock\n",
    "\n",
    "This means that none of the engineered features were used. In order to measure their impact, I'll train the k-nearest neighbors method one more time, but without the new features."
   ]
  },
  {
   "cell_type": "code",
   "execution_count": 27,
   "metadata": {},
   "outputs": [
    {
     "name": "stdout",
     "output_type": "stream",
     "text": [
      "Pipeline(memory=None,\n",
      "     steps=[('feature_select', SelectKBest(k=5, score_func=<function f_classif at 0x000000000B2C9898>)), ('kn', KNeighborsClassifier(algorithm='auto', leaf_size=30, metric='minkowski',\n",
      "           metric_params=None, n_jobs=1, n_neighbors=3, p=1,\n",
      "           weights='uniform'))])\n",
      "\tAccuracy: 0.88593\tPrecision: 0.63854\tRecall: 0.33300\tF1: 0.43773\tF2: 0.36824\n",
      "\tTotal predictions: 15000\tTrue positives:  666\tFalse positives:  377\tFalse negatives: 1334\tTrue negatives: 12623\n",
      "\n"
     ]
    }
   ],
   "source": [
    "features_list = ['poi', 'salary', 'total_payments', 'bonus', 'deferred_income',\n",
    "                 'total_stock_value', 'expenses', 'exercised_stock_options', 'other',\n",
    "                 'long_term_incentive', 'restricted_stock', 'to_messages', \n",
    "                 'from_poi_to_this_person', 'from_messages', 'from_this_person_to_poi',\n",
    "                 'shared_receipt_with_poi']\n",
    "\n",
    "data = featureFormat(my_dataset, features_list, sort_keys = True)\n",
    "labels, features = targetFeatureSplit(data)\n",
    "\n",
    "clf = Pipeline([\n",
    "    ('feature_select', SelectKBest(k = 5)),\n",
    "    ('kn', KNeighborsClassifier(n_neighbors = 3, p = 1))\n",
    "])\n",
    "\n",
    "tester.test_classifier(clf, my_dataset, features_list)"
   ]
  },
  {
   "cell_type": "markdown",
   "metadata": {},
   "source": [
    "The scores are very similar, with the accuracy and precision slightly higher, and the recall slightly lower. This means the created features didn't have much on the training and the final algorithm's performance. In addition, it's better that it stays this way, since the better feature was a simple linear combination of three different ones.\n",
    "\n",
    "## Closing remarks\n",
    "----\n",
    "Identifying persons of interest from the Enron dataset was always going to be a difficult task. There are few data points available and it was even difficult to point at POIs in plots. Three classification algorithms were tried, and only one was good enough in precision and recall. Overall, this project was an excellent learning experience in how features, outliers and even choice of algorithm affect the performance of classifiers. Outliers drive down performance, some features might not be useful at all, and this shows the importance how having good data before programming algorithms. Also, sometimes the most complex algorithms might not be the best ones for the task. \n",
    "\n",
    "Machine learning is difficult in that there is not always a clear-cut solution for each case. That's why trying different things is important and this project clearly shows why."
   ]
  }
 ],
 "metadata": {
  "kernelspec": {
   "display_name": "Python 2",
   "language": "python",
   "name": "python2"
  },
  "language_info": {
   "codemirror_mode": {
    "name": "ipython",
    "version": 2
   },
   "file_extension": ".py",
   "mimetype": "text/x-python",
   "name": "python",
   "nbconvert_exporter": "python",
   "pygments_lexer": "ipython2",
   "version": "2.7.15"
  }
 },
 "nbformat": 4,
 "nbformat_minor": 2
}
